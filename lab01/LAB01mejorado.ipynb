{
  "nbformat": 4,
  "nbformat_minor": 0,
  "metadata": {
    "colab": {
      "provenance": []
    },
    "kernelspec": {
      "name": "python3",
      "display_name": "Python 3"
    },
    "language_info": {
      "name": "python"
    }
  },
  "cells": [
    {
      "cell_type": "markdown",
      "source": [
        "# **Laboratorio 1**\n",
        "\n",
        "**Física Computacional**\n",
        "\n",
        "*Angie Alexandra Pino Huarsaya*\n",
        "\n",
        "---\n",
        "\n",
        "\n",
        "Realizar los códigos para las siguientes ecuaciones, mostradas en la\n",
        "teoría."
      ],
      "metadata": {
        "id": "uq241PRTb75p"
      }
    },
    {
      "cell_type": "markdown",
      "source": [
        "\n",
        "# MRU\n",
        "\n",
        "a) ∆x = v × ∆t\n"
      ],
      "metadata": {
        "id": "4d_YFMNjUsf9"
      }
    },
    {
      "cell_type": "code",
      "source": [
        "def calcular_desplazamiento_mru(v, delta_t):\n",
        "    if v < 0 or delta_t < 0:\n",
        "        raise ValueError(\"La velocidad y el tiempo no pueden ser valores negativos.\")\n",
        "\n",
        "    desplazamiento = v * delta_t\n",
        "    return desplazamiento\n",
        "\n",
        "def calcular_velocidad_mru(desplazamiento, delta_t):\n",
        "    if desplazamiento < 0 or delta_t <= 0:\n",
        "        raise ValueError(\"El desplazamiento no puede ser negativo y el tiempo debe ser mayor que cero.\")\n",
        "\n",
        "    velocidad = desplazamiento / delta_t\n",
        "    return velocidad\n",
        "\n",
        "def calcular_tiempo_mru(desplazamiento, v):\n",
        "    if v < 0 or desplazamiento < 0:\n",
        "        raise ValueError(\"El desplazamiento y el tiempo no pueden ser negativos.\")\n",
        "\n",
        "    t = desplazamiento / v\n",
        "    return t\n",
        "\n",
        "print(\"Opciones:\")\n",
        "print(\"1. Calcular ∆x (desplazamiento) en MRU\")\n",
        "print(\"2. Calcular v (velocidad) en MRU\")\n",
        "print(\"3. Calcular ∆t (tiempo) en MRUV\")\n",
        "\n",
        "\n",
        "opcion = int(input(\"Seleccione una opción (1/2/3): \"))\n",
        "\n",
        "try:\n",
        "    if opcion == 1:\n",
        "        v = float(input(\"Ingrese la velocidad (m/s): \"))\n",
        "        delta_t = float(input(\"Ingrese el tiempo (s): \"))\n",
        "        resultado = calcular_desplazamiento_mru(v, delta_t)\n",
        "        print(f\"El desplazamiento es: {resultado} metros\")\n",
        "\n",
        "    elif opcion == 2:\n",
        "        desplazamiento = float(input(\"Ingrese el desplazamiento (metros): \"))\n",
        "        delta_t = float(input(\"Ingrese el tiempo (s): \"))\n",
        "        resultado = calcular_velocidad_mru(desplazamiento, delta_t)\n",
        "        print(f\"La velocidad es: {resultado} m/s\")\n",
        "\n",
        "    elif opcion == 3:\n",
        "        v = float(input(\"Ingrese la velocidad (m/s): \"))\n",
        "        desplazamiento = float(input(\"Ingrese la distancia (m): \"))\n",
        "        resultado = calcular_tiempo_mru(desplazamiento, v)\n",
        "        print(f\"El tiempo es: {resultado} segundos\")\n",
        "\n",
        "    else:\n",
        "        print(\"Opción no válida. Seleccione una opción válida (1/2/3).\")\n",
        "\n",
        "except ValueError as e:\n",
        "    print(f\"Error: {e}\")"
      ],
      "metadata": {
        "colab": {
          "base_uri": "https://localhost:8080/"
        },
        "id": "28_FdnZ1U6aW",
        "outputId": "76060253-b0c4-4cbe-81ea-ab941287ab35"
      },
      "execution_count": 2,
      "outputs": [
        {
          "output_type": "stream",
          "name": "stdout",
          "text": [
            "Opciones:\n",
            "1. Calcular ∆x (desplazamiento) en MRU\n",
            "2. Calcular v (velocidad) en MRU\n",
            "3. Calcular ∆t (tiempo) en MRUV\n",
            "Seleccione una opción (1/2/3): 2\n",
            "Ingrese el desplazamiento (metros): 100\n",
            "Ingrese el tiempo (s): 3\n",
            "La velocidad es: 33.333333333333336 m/s\n"
          ]
        }
      ]
    },
    {
      "cell_type": "markdown",
      "source": [
        "# MRUV\n",
        "b) ∆x = Vi∆t + ( (α∆t^2) / 2)"
      ],
      "metadata": {
        "id": "fEtnf7ROWBSc"
      }
    },
    {
      "cell_type": "code",
      "source": [
        "def calcular_desplazamiento_mruv(vi, aceleracion, delta_t):\n",
        "    if delta_t < 0:\n",
        "        raise ValueError(\"El tiempo no puede ser un valor negativo.\")\n",
        "\n",
        "    desplazamiento = vi * delta_t + 0.5 * aceleracion * delta_t**2\n",
        "    return desplazamiento\n",
        "\n",
        "def calcular_velocidad_inicial_mruv(desplazamiento, aceleracion, delta_t):\n",
        "    if delta_t <= 0:\n",
        "        raise ValueError(\"El tiempo debe ser mayor que cero.\")\n",
        "\n",
        "    vi = (desplazamiento - 0.5 * aceleracion * delta_t**2) / delta_t\n",
        "    return vi\n",
        "\n",
        "def calcular_aceleracion_mruv(vi, desplazamiento, delta_t):\n",
        "    if delta_t <= 0:\n",
        "        raise ValueError(\"El tiempo debe ser mayor que cero.\")\n",
        "\n",
        "    aceleracion = 2 * (desplazamiento - vi * delta_t) / delta_t**2\n",
        "    return aceleracion\n",
        "\n",
        "def calcular_velocidad_final_mruv(vi, aceleracion, delta_t):\n",
        "    velocidad_final = vi + aceleracion * delta_t\n",
        "    return velocidad_final\n",
        "\n",
        "print(\"Opciones:\")\n",
        "print(\"1. Calcular ∆x (desplazamiento) en MRUV\")\n",
        "print(\"2. Calcular Vi (velocidad inicial) en MRUV\")\n",
        "print(\"3. Calcular α (aceleración) en MRUV\")\n",
        "print(\"4. Calcular vf (velocidad final) en MRUV\")\n",
        "\n",
        "opcion = int(input(\"Seleccione una opción (1/2/3/4): \"))\n",
        "\n",
        "try:\n",
        "\n",
        "    if opcion == 1:\n",
        "        vi = float(input(\"Ingrese la velocidad inicial (m/s): \"))\n",
        "        aceleracion = float(input(\"Ingrese la aceleración (m/s^2): \"))\n",
        "        delta_t = float(input(\"Ingrese el tiempo (s): \"))\n",
        "        resultado = calcular_desplazamiento_mruv(vi, aceleracion, delta_t)\n",
        "        print(f\"El desplazamiento es: {resultado} metros\")\n",
        "\n",
        "    elif opcion == 2:\n",
        "        desplazamiento = float(input(\"Ingrese el desplazamiento (metros): \"))\n",
        "        aceleracion = float(input(\"Ingrese la aceleración (m/s^2): \"))\n",
        "        delta_t = float(input(\"Ingrese el tiempo (s): \"))\n",
        "        resultado = calcular_velocidad_inicial_mruv(desplazamiento, aceleracion, delta_t)\n",
        "        print(f\"La velocidad inicial es: {resultado} m/s\")\n",
        "\n",
        "    elif opcion == 3:\n",
        "        vi = float(input(\"Ingrese la velocidad inicial (m/s): \"))\n",
        "        desplazamiento = float(input(\"Ingrese el desplazamiento (metros): \"))\n",
        "        delta_t = float(input(\"Ingrese el tiempo (s): \"))\n",
        "        resultado = calcular_aceleracion_mruv(vi, desplazamiento, delta_t)\n",
        "        print(f\"La aceleración es: {resultado} m/s^2\")\n",
        "\n",
        "    elif opcion == 4:\n",
        "        vi = float(input(\"Ingrese la velocidad inicial (m/s): \"))\n",
        "        aceleracion = float(input(\"Ingrese la aceleración (m/s^2): \"))\n",
        "        delta_t = float(input(\"Ingrese el tiempo (s): \"))\n",
        "\n",
        "        resultado = calcular_velocidad_final_mruv(vi, aceleracion, delta_t)\n",
        "        print(f\"La velocidad final es: {resultado} m/s\")\n",
        "\n",
        "    else:\n",
        "        print(\"Opción no válida. Seleccione una opción válida (1/2/3).\")\n",
        "\n",
        "except ValueError as e:\n",
        "    print(f\"Error: {e}\")"
      ],
      "metadata": {
        "id": "uYSJ165gVlX6",
        "colab": {
          "base_uri": "https://localhost:8080/"
        },
        "outputId": "672ab290-a3c6-49ab-87f0-fc5dbf3640e3"
      },
      "execution_count": 3,
      "outputs": [
        {
          "output_type": "stream",
          "name": "stdout",
          "text": [
            "Opciones:\n",
            "1. Calcular ∆x (desplazamiento) en MRUV\n",
            "2. Calcular Vi (velocidad inicial) en MRUV\n",
            "3. Calcular α (aceleración) en MRUV\n",
            "Seleccione una opción (1/2/3): 3\n",
            "Ingrese la velocidad inicial (m/s): 0\n",
            "Ingrese el desplazamiento (metros): 20\n",
            "Ingrese el tiempo (s): 5\n",
            "La aceleración es: 1.6 m/s^2\n"
          ]
        }
      ]
    },
    {
      "cell_type": "markdown",
      "source": [
        "c) Vf = Vi∆t + α∆t"
      ],
      "metadata": {
        "id": "BfuPSiU0WLnO"
      }
    },
    {
      "cell_type": "code",
      "source": [
        "def calcular_velocidad_final_mruv(vi, aceleracion, delta_t):\n",
        "    velocidad_final = vi + aceleracion * delta_t\n",
        "    return velocidad_final\n",
        "\n",
        "\n",
        "vi = float(input(\"Ingrese la velocidad inicial (m/s): \"))\n",
        "aceleracion = float(input(\"Ingrese la aceleración (m/s^2): \"))\n",
        "delta_t = float(input(\"Ingrese el tiempo (s): \"))\n",
        "\n",
        "resultado = calcular_velocidad_final_mruv(vi, aceleracion, delta_t)\n",
        "print(f\"La velocidad final es: {resultado} m/s\")"
      ],
      "metadata": {
        "colab": {
          "base_uri": "https://localhost:8080/"
        },
        "id": "MJDv_XXeXHLx",
        "outputId": "1cf395ee-42bd-453c-8356-f3d71b92fa6c"
      },
      "execution_count": 4,
      "outputs": [
        {
          "output_type": "stream",
          "name": "stdout",
          "text": [
            "Ingrese la velocidad inicial (m/s): 0\n",
            "Ingrese la aceleración (m/s^2): 2\n",
            "Ingrese el tiempo (s): 5\n",
            "La velocidad final es: 10.0 m/s\n"
          ]
        }
      ]
    },
    {
      "cell_type": "markdown",
      "source": [
        "Este código permite calcular y obtener variaciones de cada variable en las ecuaciones MRU y MRUV, además de manejar posibles errores en las entradas del usuario."
      ],
      "metadata": {
        "id": "LRQZ2harXE7p"
      }
    }
  ]
}